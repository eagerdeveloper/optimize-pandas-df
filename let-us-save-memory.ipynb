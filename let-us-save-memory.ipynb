{
 "cells": [
  {
   "cell_type": "markdown",
   "metadata": {},
   "source": [
    "# Using Citibike data and optimizing dataframes"
   ]
  },
  {
   "cell_type": "markdown",
   "metadata": {},
   "source": [
    "## Dataset details\n",
    "- Trip Duration (seconds)\n",
    "- Start Time and Date\n",
    "- Stop Time and Date\n",
    "- Start Station Name\n",
    "- End Station Name\n",
    "- Station ID\n",
    "- Station Lat/Long\n",
    "- Bike ID\n",
    "- User Type (Customer = 24-hour pass or 3-day pass user; Subscriber = Annual Member)\n",
    "- Gender (Zero=unknown; 1=male; 2=female)\n",
    "- Year of Birth"
   ]
  },
  {
   "cell_type": "markdown",
   "metadata": {},
   "source": [
    "### Imports"
   ]
  },
  {
   "cell_type": "code",
   "execution_count": 44,
   "metadata": {},
   "outputs": [],
   "source": [
    "import pandas as pd"
   ]
  },
  {
   "cell_type": "markdown",
   "metadata": {},
   "source": [
    "<h2 style=\"background-color:green;color:white;padding:5px\">If we know the datatypes, we can specify it directly at the time of loading</h3>"
   ]
  },
  {
   "cell_type": "code",
   "execution_count": 47,
   "metadata": {},
   "outputs": [
    {
     "name": "stdout",
     "output_type": "stream",
     "text": [
      "(39138, 15)\n"
     ]
    },
    {
     "data": {
      "text/html": [
       "<div>\n",
       "<style>\n",
       "    .dataframe thead tr:only-child th {\n",
       "        text-align: right;\n",
       "    }\n",
       "\n",
       "    .dataframe thead th {\n",
       "        text-align: left;\n",
       "    }\n",
       "\n",
       "    .dataframe tbody tr th {\n",
       "        vertical-align: top;\n",
       "    }\n",
       "</style>\n",
       "<table border=\"1\" class=\"dataframe\">\n",
       "  <thead>\n",
       "    <tr style=\"text-align: right;\">\n",
       "      <th></th>\n",
       "      <th>tripduration</th>\n",
       "      <th>starttime</th>\n",
       "      <th>stoptime</th>\n",
       "      <th>start station id</th>\n",
       "      <th>start station name</th>\n",
       "      <th>start station latitude</th>\n",
       "      <th>start station longitude</th>\n",
       "      <th>end station id</th>\n",
       "      <th>end station name</th>\n",
       "      <th>end station latitude</th>\n",
       "      <th>end station longitude</th>\n",
       "      <th>bikeid</th>\n",
       "      <th>usertype</th>\n",
       "      <th>birth year</th>\n",
       "      <th>gender</th>\n",
       "    </tr>\n",
       "  </thead>\n",
       "  <tbody>\n",
       "    <tr>\n",
       "      <th>0</th>\n",
       "      <td>152</td>\n",
       "      <td>2018-10-01 07:44:41.417</td>\n",
       "      <td>2018-10-01 07:47:14.296</td>\n",
       "      <td>3183</td>\n",
       "      <td>Exchange Place</td>\n",
       "      <td>40.716248</td>\n",
       "      <td>-74.033463</td>\n",
       "      <td>3639</td>\n",
       "      <td>Harborside</td>\n",
       "      <td>40.719254</td>\n",
       "      <td>-74.034233</td>\n",
       "      <td>15302</td>\n",
       "      <td>Subscriber</td>\n",
       "      <td>1971</td>\n",
       "      <td>2</td>\n",
       "    </tr>\n",
       "    <tr>\n",
       "      <th>1</th>\n",
       "      <td>122</td>\n",
       "      <td>2018-10-01 08:50:05.434</td>\n",
       "      <td>2018-10-01 08:52:08.225</td>\n",
       "      <td>3183</td>\n",
       "      <td>Exchange Place</td>\n",
       "      <td>40.716248</td>\n",
       "      <td>-74.033463</td>\n",
       "      <td>3214</td>\n",
       "      <td>Essex Light Rail</td>\n",
       "      <td>40.712772</td>\n",
       "      <td>-74.036484</td>\n",
       "      <td>29654</td>\n",
       "      <td>Subscriber</td>\n",
       "      <td>1973</td>\n",
       "      <td>1</td>\n",
       "    </tr>\n",
       "    <tr>\n",
       "      <th>2</th>\n",
       "      <td>211</td>\n",
       "      <td>2018-10-01 09:03:17.064</td>\n",
       "      <td>2018-10-01 09:06:48.094</td>\n",
       "      <td>3183</td>\n",
       "      <td>Exchange Place</td>\n",
       "      <td>40.716248</td>\n",
       "      <td>-74.033463</td>\n",
       "      <td>3187</td>\n",
       "      <td>Warren St</td>\n",
       "      <td>40.721123</td>\n",
       "      <td>-74.038048</td>\n",
       "      <td>33621</td>\n",
       "      <td>Subscriber</td>\n",
       "      <td>1958</td>\n",
       "      <td>1</td>\n",
       "    </tr>\n",
       "    <tr>\n",
       "      <th>3</th>\n",
       "      <td>342</td>\n",
       "      <td>2018-10-01 10:13:07.009</td>\n",
       "      <td>2018-10-01 10:18:49.896</td>\n",
       "      <td>3183</td>\n",
       "      <td>Exchange Place</td>\n",
       "      <td>40.716248</td>\n",
       "      <td>-74.033463</td>\n",
       "      <td>3202</td>\n",
       "      <td>Newport PATH</td>\n",
       "      <td>40.727222</td>\n",
       "      <td>-74.033760</td>\n",
       "      <td>26266</td>\n",
       "      <td>Subscriber</td>\n",
       "      <td>1982</td>\n",
       "      <td>1</td>\n",
       "    </tr>\n",
       "    <tr>\n",
       "      <th>4</th>\n",
       "      <td>2976</td>\n",
       "      <td>2018-10-01 10:45:14.280</td>\n",
       "      <td>2018-10-01 11:34:51.261</td>\n",
       "      <td>3183</td>\n",
       "      <td>Exchange Place</td>\n",
       "      <td>40.716248</td>\n",
       "      <td>-74.033463</td>\n",
       "      <td>3183</td>\n",
       "      <td>Exchange Place</td>\n",
       "      <td>40.716248</td>\n",
       "      <td>-74.033463</td>\n",
       "      <td>27083</td>\n",
       "      <td>Customer</td>\n",
       "      <td>1969</td>\n",
       "      <td>0</td>\n",
       "    </tr>\n",
       "  </tbody>\n",
       "</table>\n",
       "</div>"
      ],
      "text/plain": [
       "   tripduration               starttime                stoptime  \\\n",
       "0           152 2018-10-01 07:44:41.417 2018-10-01 07:47:14.296   \n",
       "1           122 2018-10-01 08:50:05.434 2018-10-01 08:52:08.225   \n",
       "2           211 2018-10-01 09:03:17.064 2018-10-01 09:06:48.094   \n",
       "3           342 2018-10-01 10:13:07.009 2018-10-01 10:18:49.896   \n",
       "4          2976 2018-10-01 10:45:14.280 2018-10-01 11:34:51.261   \n",
       "\n",
       "   start station id start station name  start station latitude  \\\n",
       "0              3183     Exchange Place               40.716248   \n",
       "1              3183     Exchange Place               40.716248   \n",
       "2              3183     Exchange Place               40.716248   \n",
       "3              3183     Exchange Place               40.716248   \n",
       "4              3183     Exchange Place               40.716248   \n",
       "\n",
       "   start station longitude  end station id  end station name  \\\n",
       "0               -74.033463            3639        Harborside   \n",
       "1               -74.033463            3214  Essex Light Rail   \n",
       "2               -74.033463            3187         Warren St   \n",
       "3               -74.033463            3202      Newport PATH   \n",
       "4               -74.033463            3183    Exchange Place   \n",
       "\n",
       "   end station latitude  end station longitude  bikeid    usertype  \\\n",
       "0             40.719254             -74.034233   15302  Subscriber   \n",
       "1             40.712772             -74.036484   29654  Subscriber   \n",
       "2             40.721123             -74.038048   33621  Subscriber   \n",
       "3             40.727222             -74.033760   26266  Subscriber   \n",
       "4             40.716248             -74.033463   27083    Customer   \n",
       "\n",
       "   birth year  gender  \n",
       "0        1971       2  \n",
       "1        1973       1  \n",
       "2        1958       1  \n",
       "3        1982       1  \n",
       "4        1969       0  "
      ]
     },
     "execution_count": 47,
     "metadata": {},
     "output_type": "execute_result"
    }
   ],
   "source": [
    "optimized_df = pd.read_csv('JC-201810-citibike-tripdata.csv',\n",
    "                                 dtype={'tripduration': 'uint32',\n",
    "                                        'start station id': 'uint16',\n",
    "                                        'end station id': 'uint16',\n",
    "                                        'bikeid': 'uint16',\n",
    "                                        'birth year': 'uint16',\n",
    "                                        'gender': 'uint8',\n",
    "                                        'start station latitude': 'float32',\n",
    "                                        'start station longitude': 'float32',\n",
    "                                        'end station latitude': 'float32',\n",
    "                                        'end station longitude': 'float32',\n",
    "                                        'start station name': 'category',\n",
    "                                        'end station name': 'category', \n",
    "                                        'usertype': 'category'\n",
    "                                        },\n",
    "                                 parse_dates=['starttime', 'stoptime'],\n",
    "                                 infer_datetime_format=True)\n",
    "\n",
    "print(optimized_df.shape)\n",
    "optimized_df.head()"
   ]
  },
  {
   "cell_type": "markdown",
   "metadata": {},
   "source": [
    "<h1 style=\"color: white; background-color:green;padding:5px\"> But in many cases, we may not know the data ahead of time, or we could have different file types like pickle or HDF, where such options are not available during load</h1>\n",
    "<h1>So we have to analyze the dataset, let us do that </h1>"
   ]
  },
  {
   "cell_type": "code",
   "execution_count": 48,
   "metadata": {},
   "outputs": [],
   "source": [
    "df = pd.read_csv(\"JC-201810-citibike-tripdata.csv\")"
   ]
  },
  {
   "cell_type": "code",
   "execution_count": 51,
   "metadata": {},
   "outputs": [
    {
     "name": "stdout",
     "output_type": "stream",
     "text": [
      "(39138, 15)\n"
     ]
    },
    {
     "data": {
      "text/html": [
       "<div>\n",
       "<style>\n",
       "    .dataframe thead tr:only-child th {\n",
       "        text-align: right;\n",
       "    }\n",
       "\n",
       "    .dataframe thead th {\n",
       "        text-align: left;\n",
       "    }\n",
       "\n",
       "    .dataframe tbody tr th {\n",
       "        vertical-align: top;\n",
       "    }\n",
       "</style>\n",
       "<table border=\"1\" class=\"dataframe\">\n",
       "  <thead>\n",
       "    <tr style=\"text-align: right;\">\n",
       "      <th></th>\n",
       "      <th>tripduration</th>\n",
       "      <th>starttime</th>\n",
       "      <th>stoptime</th>\n",
       "      <th>start station id</th>\n",
       "      <th>start station name</th>\n",
       "      <th>start station latitude</th>\n",
       "      <th>start station longitude</th>\n",
       "      <th>end station id</th>\n",
       "      <th>end station name</th>\n",
       "      <th>end station latitude</th>\n",
       "      <th>end station longitude</th>\n",
       "      <th>bikeid</th>\n",
       "      <th>usertype</th>\n",
       "      <th>birth year</th>\n",
       "      <th>gender</th>\n",
       "    </tr>\n",
       "  </thead>\n",
       "  <tbody>\n",
       "    <tr>\n",
       "      <th>0</th>\n",
       "      <td>152</td>\n",
       "      <td>2018-10-01 07:44:41.4170</td>\n",
       "      <td>2018-10-01 07:47:14.2960</td>\n",
       "      <td>3183</td>\n",
       "      <td>Exchange Place</td>\n",
       "      <td>40.716247</td>\n",
       "      <td>-74.033459</td>\n",
       "      <td>3639</td>\n",
       "      <td>Harborside</td>\n",
       "      <td>40.719252</td>\n",
       "      <td>-74.034234</td>\n",
       "      <td>15302</td>\n",
       "      <td>Subscriber</td>\n",
       "      <td>1971</td>\n",
       "      <td>2</td>\n",
       "    </tr>\n",
       "    <tr>\n",
       "      <th>1</th>\n",
       "      <td>122</td>\n",
       "      <td>2018-10-01 08:50:05.4340</td>\n",
       "      <td>2018-10-01 08:52:08.2250</td>\n",
       "      <td>3183</td>\n",
       "      <td>Exchange Place</td>\n",
       "      <td>40.716247</td>\n",
       "      <td>-74.033459</td>\n",
       "      <td>3214</td>\n",
       "      <td>Essex Light Rail</td>\n",
       "      <td>40.712774</td>\n",
       "      <td>-74.036486</td>\n",
       "      <td>29654</td>\n",
       "      <td>Subscriber</td>\n",
       "      <td>1973</td>\n",
       "      <td>1</td>\n",
       "    </tr>\n",
       "    <tr>\n",
       "      <th>2</th>\n",
       "      <td>211</td>\n",
       "      <td>2018-10-01 09:03:17.0640</td>\n",
       "      <td>2018-10-01 09:06:48.0940</td>\n",
       "      <td>3183</td>\n",
       "      <td>Exchange Place</td>\n",
       "      <td>40.716247</td>\n",
       "      <td>-74.033459</td>\n",
       "      <td>3187</td>\n",
       "      <td>Warren St</td>\n",
       "      <td>40.721124</td>\n",
       "      <td>-74.038051</td>\n",
       "      <td>33621</td>\n",
       "      <td>Subscriber</td>\n",
       "      <td>1958</td>\n",
       "      <td>1</td>\n",
       "    </tr>\n",
       "    <tr>\n",
       "      <th>3</th>\n",
       "      <td>342</td>\n",
       "      <td>2018-10-01 10:13:07.0090</td>\n",
       "      <td>2018-10-01 10:18:49.8960</td>\n",
       "      <td>3183</td>\n",
       "      <td>Exchange Place</td>\n",
       "      <td>40.716247</td>\n",
       "      <td>-74.033459</td>\n",
       "      <td>3202</td>\n",
       "      <td>Newport PATH</td>\n",
       "      <td>40.727224</td>\n",
       "      <td>-74.033759</td>\n",
       "      <td>26266</td>\n",
       "      <td>Subscriber</td>\n",
       "      <td>1982</td>\n",
       "      <td>1</td>\n",
       "    </tr>\n",
       "    <tr>\n",
       "      <th>4</th>\n",
       "      <td>2976</td>\n",
       "      <td>2018-10-01 10:45:14.2800</td>\n",
       "      <td>2018-10-01 11:34:51.2610</td>\n",
       "      <td>3183</td>\n",
       "      <td>Exchange Place</td>\n",
       "      <td>40.716247</td>\n",
       "      <td>-74.033459</td>\n",
       "      <td>3183</td>\n",
       "      <td>Exchange Place</td>\n",
       "      <td>40.716247</td>\n",
       "      <td>-74.033459</td>\n",
       "      <td>27083</td>\n",
       "      <td>Customer</td>\n",
       "      <td>1969</td>\n",
       "      <td>0</td>\n",
       "    </tr>\n",
       "  </tbody>\n",
       "</table>\n",
       "</div>"
      ],
      "text/plain": [
       "   tripduration                 starttime                  stoptime  \\\n",
       "0           152  2018-10-01 07:44:41.4170  2018-10-01 07:47:14.2960   \n",
       "1           122  2018-10-01 08:50:05.4340  2018-10-01 08:52:08.2250   \n",
       "2           211  2018-10-01 09:03:17.0640  2018-10-01 09:06:48.0940   \n",
       "3           342  2018-10-01 10:13:07.0090  2018-10-01 10:18:49.8960   \n",
       "4          2976  2018-10-01 10:45:14.2800  2018-10-01 11:34:51.2610   \n",
       "\n",
       "   start station id start station name  start station latitude  \\\n",
       "0              3183     Exchange Place               40.716247   \n",
       "1              3183     Exchange Place               40.716247   \n",
       "2              3183     Exchange Place               40.716247   \n",
       "3              3183     Exchange Place               40.716247   \n",
       "4              3183     Exchange Place               40.716247   \n",
       "\n",
       "   start station longitude  end station id  end station name  \\\n",
       "0               -74.033459            3639        Harborside   \n",
       "1               -74.033459            3214  Essex Light Rail   \n",
       "2               -74.033459            3187         Warren St   \n",
       "3               -74.033459            3202      Newport PATH   \n",
       "4               -74.033459            3183    Exchange Place   \n",
       "\n",
       "   end station latitude  end station longitude  bikeid    usertype  \\\n",
       "0             40.719252             -74.034234   15302  Subscriber   \n",
       "1             40.712774             -74.036486   29654  Subscriber   \n",
       "2             40.721124             -74.038051   33621  Subscriber   \n",
       "3             40.727224             -74.033759   26266  Subscriber   \n",
       "4             40.716247             -74.033459   27083    Customer   \n",
       "\n",
       "   birth year  gender  \n",
       "0        1971       2  \n",
       "1        1973       1  \n",
       "2        1958       1  \n",
       "3        1982       1  \n",
       "4        1969       0  "
      ]
     },
     "execution_count": 51,
     "metadata": {},
     "output_type": "execute_result"
    }
   ],
   "source": [
    "print(df.shape)\n",
    "df.head()"
   ]
  },
  {
   "cell_type": "markdown",
   "metadata": {},
   "source": [
    "### Let us look at the various data types - Pandas has inferred them"
   ]
  },
  {
   "cell_type": "code",
   "execution_count": 4,
   "metadata": {},
   "outputs": [
    {
     "data": {
      "text/plain": [
       "tripduration                 int64\n",
       "starttime                   object\n",
       "stoptime                    object\n",
       "start station id             int64\n",
       "start station name          object\n",
       "start station latitude     float64\n",
       "start station longitude    float64\n",
       "end station id               int64\n",
       "end station name            object\n",
       "end station latitude       float64\n",
       "end station longitude      float64\n",
       "bikeid                       int64\n",
       "usertype                    object\n",
       "birth year                   int64\n",
       "gender                       int64\n",
       "dtype: object"
      ]
     },
     "execution_count": 4,
     "metadata": {},
     "output_type": "execute_result"
    }
   ],
   "source": [
    "df.dtypes"
   ]
  },
  {
   "cell_type": "markdown",
   "metadata": {},
   "source": [
    "### Here is the total bytes used for each column"
   ]
  },
  {
   "cell_type": "code",
   "execution_count": 7,
   "metadata": {},
   "outputs": [
    {
     "data": {
      "text/plain": [
       "Index                           72\n",
       "tripduration                313104\n",
       "starttime                  2700522\n",
       "stoptime                   2700522\n",
       "start station id            313104\n",
       "start station name         2255968\n",
       "start station latitude      313104\n",
       "start station longitude     313104\n",
       "end station id              313104\n",
       "end station name           2255834\n",
       "end station latitude        313104\n",
       "end station longitude       313104\n",
       "bikeid                      313104\n",
       "usertype                   2148582\n",
       "birth year                  313104\n",
       "gender                      313104\n",
       "dtype: int64"
      ]
     },
     "execution_count": 7,
     "metadata": {},
     "output_type": "execute_result"
    }
   ],
   "source": [
    "df.memory_usage(deep=True)"
   ]
  },
  {
   "cell_type": "markdown",
   "metadata": {},
   "source": [
    "### I wrote a function to get the total bytes of the dataframe, so it is easy to know"
   ]
  },
  {
   "cell_type": "code",
   "execution_count": 52,
   "metadata": {},
   "outputs": [],
   "source": [
    "def get_memory_usage(pandas_object, unit='MB'):\n",
    "    if unit == \"KB\":\n",
    "        dividing_factor = 1024.0\n",
    "    elif unit == \"MB\":\n",
    "        dividing_factor = 1024.0 ** 2\n",
    "    \n",
    "    # Check if it is a Pandas dataframe\n",
    "    if isinstance(pandas_object,pd.DataFrame):\n",
    "        total_bytes = pandas_object.memory_usage(deep=True).sum()\n",
    "    else: # This means it is a Pandas series\n",
    "        total_bytes = pandas_object.memory_usage(deep=True)\n",
    "        \n",
    "    usage_units = total_bytes / dividing_factor\n",
    "    \n",
    "    return \"%3.2f %s\" % (usage_units, unit)"
   ]
  },
  {
   "cell_type": "markdown",
   "metadata": {},
   "source": [
    "### Show the total memory used by the Citibike dataframe"
   ]
  },
  {
   "cell_type": "code",
   "execution_count": 54,
   "metadata": {},
   "outputs": [
    {
     "name": "stdout",
     "output_type": "stream",
     "text": [
      "14.49 MB\n"
     ]
    }
   ],
   "source": [
    "print(get_memory_usage(df))"
   ]
  },
  {
   "cell_type": "markdown",
   "metadata": {},
   "source": [
    "### These are functions that will cast the various data types"
   ]
  },
  {
   "cell_type": "code",
   "execution_count": 80,
   "metadata": {},
   "outputs": [],
   "source": [
    "def downcast_int_to_unsigned_int(df):\n",
    "    converted_df = df.apply(pd.to_numeric,downcast='unsigned')        \n",
    "    return converted_df\n",
    "\n",
    "def downcast_float(df):\n",
    "    converted_df = df.apply(pd.to_numeric,downcast='float')\n",
    "    return converted_df\n",
    "\n",
    "def cast_object_to_category(df):\n",
    "    \"\"\"\n",
    "    Cast each column to a type specified in the column-type mapping\n",
    "    \"\"\"\n",
    "    \n",
    "    # If I don't make a copy, it complains with a warning\n",
    "    # \"... A value is trying to be set on a copy of a slice from a DataFrame\"\n",
    "    cat_df = df.copy()\n",
    "    \n",
    "    for column in list(cat_df.columns):\n",
    "        cat_df[column] = cat_df[column].astype('category')\n",
    "    return cat_df\n",
    "\n",
    "def cast_object_to_datetime(df, format='%Y-%m-%d %H:%M:%S.%f'):\n",
    "    \"\"\"\n",
    "    Cast each column to a type specified in the column-type mapping\n",
    "    \"\"\"    \n",
    "    # If I don't make a copy, it complains with a warning\n",
    "    # \"... A value is trying to be set on a copy of a slice from a DataFrame\"\n",
    "    cat_df = df.copy()\n",
    "    for column in list(cat_df.columns):\n",
    "        cat_df[column] = pd.to_datetime(cat_df[column],format=format)\n",
    "    return cat_df\n",
    "\n",
    "def optimize_pandas_df(df, data_type):\n",
    "    print(\"*** Before type conversion: ***\")\n",
    "    print(\"df%r \\n\\n* Memory usage = %s\" % (list(df.columns), get_memory_usage(df)))\n",
    "    print(\"* dtypes:\\n%r\" % df.dtypes)\n",
    "\n",
    "    if data_type == \"int\":\n",
    "        df = downcast_int_to_unsigned_int(df)\n",
    "    elif data_type == \"float\":\n",
    "        df = downcast_float(df)       \n",
    "    elif data_type == \"object\":\n",
    "        df = cast_object_to_category(df)\n",
    "    elif data_type == \"datetime\":\n",
    "        df = cast_object_to_datetime(df)\n",
    "        \n",
    "    print(\"\\n\\n*** After type conversion: ***\")\n",
    "    print(\"df%r \\n\\n* Memory usage = %s\" % (list(df.columns), get_memory_usage(df)))\n",
    "    print(\"* dtypes:\\n%r\" % df.dtypes)\n",
    "    \n",
    "    return df"
   ]
  },
  {
   "cell_type": "markdown",
   "metadata": {},
   "source": [
    "### Make a copy of the dataframe, this copy will be continuously optimized for memory"
   ]
  },
  {
   "cell_type": "code",
   "execution_count": 81,
   "metadata": {},
   "outputs": [],
   "source": [
    "copy_df = df.copy()"
   ]
  },
  {
   "cell_type": "markdown",
   "metadata": {},
   "source": [
    "<h2 style=\"color: white; background-color:green;padding:5px\">int columns: Look at all of them first</h2>"
   ]
  },
  {
   "cell_type": "code",
   "execution_count": 82,
   "metadata": {},
   "outputs": [
    {
     "data": {
      "text/html": [
       "<div>\n",
       "<style>\n",
       "    .dataframe thead tr:only-child th {\n",
       "        text-align: right;\n",
       "    }\n",
       "\n",
       "    .dataframe thead th {\n",
       "        text-align: left;\n",
       "    }\n",
       "\n",
       "    .dataframe tbody tr th {\n",
       "        vertical-align: top;\n",
       "    }\n",
       "</style>\n",
       "<table border=\"1\" class=\"dataframe\">\n",
       "  <thead>\n",
       "    <tr style=\"text-align: right;\">\n",
       "      <th></th>\n",
       "      <th>tripduration</th>\n",
       "      <th>start station id</th>\n",
       "      <th>end station id</th>\n",
       "      <th>bikeid</th>\n",
       "      <th>birth year</th>\n",
       "      <th>gender</th>\n",
       "    </tr>\n",
       "  </thead>\n",
       "  <tbody>\n",
       "    <tr>\n",
       "      <th>count</th>\n",
       "      <td>39138.000000</td>\n",
       "      <td>39138.000000</td>\n",
       "      <td>39138.000000</td>\n",
       "      <td>39138.000000</td>\n",
       "      <td>39138.000000</td>\n",
       "      <td>39138.000000</td>\n",
       "    </tr>\n",
       "    <tr>\n",
       "      <th>mean</th>\n",
       "      <td>589.920359</td>\n",
       "      <td>3273.602995</td>\n",
       "      <td>3265.638127</td>\n",
       "      <td>29251.220987</td>\n",
       "      <td>1981.062829</td>\n",
       "      <td>1.180106</td>\n",
       "    </tr>\n",
       "    <tr>\n",
       "      <th>std</th>\n",
       "      <td>3393.197160</td>\n",
       "      <td>147.852335</td>\n",
       "      <td>158.997274</td>\n",
       "      <td>2613.864275</td>\n",
       "      <td>10.130957</td>\n",
       "      <td>0.478995</td>\n",
       "    </tr>\n",
       "    <tr>\n",
       "      <th>min</th>\n",
       "      <td>61.000000</td>\n",
       "      <td>3183.000000</td>\n",
       "      <td>259.000000</td>\n",
       "      <td>14793.000000</td>\n",
       "      <td>1888.000000</td>\n",
       "      <td>0.000000</td>\n",
       "    </tr>\n",
       "    <tr>\n",
       "      <th>25%</th>\n",
       "      <td>225.000000</td>\n",
       "      <td>3191.000000</td>\n",
       "      <td>3186.000000</td>\n",
       "      <td>26315.000000</td>\n",
       "      <td>1975.000000</td>\n",
       "      <td>1.000000</td>\n",
       "    </tr>\n",
       "    <tr>\n",
       "      <th>50%</th>\n",
       "      <td>326.000000</td>\n",
       "      <td>3207.000000</td>\n",
       "      <td>3203.000000</td>\n",
       "      <td>29452.000000</td>\n",
       "      <td>1984.000000</td>\n",
       "      <td>1.000000</td>\n",
       "    </tr>\n",
       "    <tr>\n",
       "      <th>75%</th>\n",
       "      <td>522.750000</td>\n",
       "      <td>3273.000000</td>\n",
       "      <td>3272.000000</td>\n",
       "      <td>29640.000000</td>\n",
       "      <td>1989.000000</td>\n",
       "      <td>1.000000</td>\n",
       "    </tr>\n",
       "    <tr>\n",
       "      <th>max</th>\n",
       "      <td>328778.000000</td>\n",
       "      <td>3694.000000</td>\n",
       "      <td>3694.000000</td>\n",
       "      <td>35009.000000</td>\n",
       "      <td>2002.000000</td>\n",
       "      <td>2.000000</td>\n",
       "    </tr>\n",
       "  </tbody>\n",
       "</table>\n",
       "</div>"
      ],
      "text/plain": [
       "        tripduration  start station id  end station id        bikeid  \\\n",
       "count   39138.000000      39138.000000    39138.000000  39138.000000   \n",
       "mean      589.920359       3273.602995     3265.638127  29251.220987   \n",
       "std      3393.197160        147.852335      158.997274   2613.864275   \n",
       "min        61.000000       3183.000000      259.000000  14793.000000   \n",
       "25%       225.000000       3191.000000     3186.000000  26315.000000   \n",
       "50%       326.000000       3207.000000     3203.000000  29452.000000   \n",
       "75%       522.750000       3273.000000     3272.000000  29640.000000   \n",
       "max    328778.000000       3694.000000     3694.000000  35009.000000   \n",
       "\n",
       "         birth year        gender  \n",
       "count  39138.000000  39138.000000  \n",
       "mean    1981.062829      1.180106  \n",
       "std       10.130957      0.478995  \n",
       "min     1888.000000      0.000000  \n",
       "25%     1975.000000      1.000000  \n",
       "50%     1984.000000      1.000000  \n",
       "75%     1989.000000      1.000000  \n",
       "max     2002.000000      2.000000  "
      ]
     },
     "execution_count": 82,
     "metadata": {},
     "output_type": "execute_result"
    }
   ],
   "source": [
    "copy_df.select_dtypes(include=['int']).describe()"
   ]
  },
  {
   "cell_type": "markdown",
   "metadata": {},
   "source": [
    "### Pick the columns to optimize"
   ]
  },
  {
   "cell_type": "code",
   "execution_count": 83,
   "metadata": {},
   "outputs": [
    {
     "name": "stdout",
     "output_type": "stream",
     "text": [
      "['tripduration', 'start station id', 'end station id', 'bikeid', 'birth year', 'gender']\n"
     ]
    }
   ],
   "source": [
    "print(list(df.select_dtypes(include=['int']).columns))"
   ]
  },
  {
   "cell_type": "markdown",
   "metadata": {},
   "source": [
    "### Optimize them using downcasting"
   ]
  },
  {
   "cell_type": "code",
   "execution_count": 84,
   "metadata": {},
   "outputs": [
    {
     "name": "stdout",
     "output_type": "stream",
     "text": [
      "*** Before type conversion: ***\n",
      "df['tripduration', 'start station id', 'end station id', 'bikeid', 'birth year', 'gender'] \n",
      "\n",
      "* Memory usage = 1.79 MB\n",
      "* dtypes:\n",
      "tripduration        int64\n",
      "start station id    int64\n",
      "end station id      int64\n",
      "bikeid              int64\n",
      "birth year          int64\n",
      "gender              int64\n",
      "dtype: object\n",
      "\n",
      "\n",
      "*** After type conversion: ***\n",
      "df['tripduration', 'start station id', 'end station id', 'bikeid', 'birth year', 'gender'] \n",
      "\n",
      "* Memory usage = 0.49 MB\n",
      "* dtypes:\n",
      "tripduration        uint32\n",
      "start station id    uint16\n",
      "end station id      uint16\n",
      "bikeid              uint16\n",
      "birth year          uint16\n",
      "gender               uint8\n",
      "dtype: object\n"
     ]
    }
   ],
   "source": [
    "int_columns = ['tripduration', 'start station id', 'end station id', 'bikeid', 'birth year', 'gender']\n",
    "copy_df[int_columns] = optimize_pandas_df(copy_df[int_columns], 'int')"
   ]
  },
  {
   "cell_type": "markdown",
   "metadata": {},
   "source": [
    "### Overall savings: Before and after"
   ]
  },
  {
   "cell_type": "code",
   "execution_count": 85,
   "metadata": {},
   "outputs": [
    {
     "name": "stdout",
     "output_type": "stream",
     "text": [
      "Before typecasting: df memory usage = 14.49 MB\n",
      "After typecasting: copy_df memory usage = 13.18 MB\n"
     ]
    }
   ],
   "source": [
    "print(\"Before typecasting: df memory usage = %s\" % get_memory_usage(df))\n",
    "print(\"After typecasting: copy_df memory usage = %s\" % get_memory_usage(copy_df))"
   ]
  },
  {
   "cell_type": "markdown",
   "metadata": {},
   "source": [
    "<h2 style=\"color: white; background-color:green;padding:5px\">float columns: Look at all of them first</h2>"
   ]
  },
  {
   "cell_type": "code",
   "execution_count": 86,
   "metadata": {},
   "outputs": [
    {
     "data": {
      "text/html": [
       "<div>\n",
       "<style>\n",
       "    .dataframe thead tr:only-child th {\n",
       "        text-align: right;\n",
       "    }\n",
       "\n",
       "    .dataframe thead th {\n",
       "        text-align: left;\n",
       "    }\n",
       "\n",
       "    .dataframe tbody tr th {\n",
       "        vertical-align: top;\n",
       "    }\n",
       "</style>\n",
       "<table border=\"1\" class=\"dataframe\">\n",
       "  <thead>\n",
       "    <tr style=\"text-align: right;\">\n",
       "      <th></th>\n",
       "      <th>start station latitude</th>\n",
       "      <th>start station longitude</th>\n",
       "      <th>end station latitude</th>\n",
       "      <th>end station longitude</th>\n",
       "    </tr>\n",
       "  </thead>\n",
       "  <tbody>\n",
       "    <tr>\n",
       "      <th>count</th>\n",
       "      <td>39138.000000</td>\n",
       "      <td>39138.000000</td>\n",
       "      <td>39138.000000</td>\n",
       "      <td>39138.000000</td>\n",
       "    </tr>\n",
       "    <tr>\n",
       "      <th>mean</th>\n",
       "      <td>40.722677</td>\n",
       "      <td>-74.046233</td>\n",
       "      <td>40.722260</td>\n",
       "      <td>-74.045611</td>\n",
       "    </tr>\n",
       "    <tr>\n",
       "      <th>std</th>\n",
       "      <td>0.007221</td>\n",
       "      <td>0.010860</td>\n",
       "      <td>0.007038</td>\n",
       "      <td>0.010770</td>\n",
       "    </tr>\n",
       "    <tr>\n",
       "      <th>min</th>\n",
       "      <td>40.709651</td>\n",
       "      <td>-74.083639</td>\n",
       "      <td>40.701221</td>\n",
       "      <td>-74.083639</td>\n",
       "    </tr>\n",
       "    <tr>\n",
       "      <th>25%</th>\n",
       "      <td>40.718355</td>\n",
       "      <td>-74.050656</td>\n",
       "      <td>40.717733</td>\n",
       "      <td>-74.050389</td>\n",
       "    </tr>\n",
       "    <tr>\n",
       "      <th>50%</th>\n",
       "      <td>40.721525</td>\n",
       "      <td>-74.043845</td>\n",
       "      <td>40.719586</td>\n",
       "      <td>-74.043117</td>\n",
       "    </tr>\n",
       "    <tr>\n",
       "      <th>75%</th>\n",
       "      <td>40.727224</td>\n",
       "      <td>-74.038051</td>\n",
       "      <td>40.726012</td>\n",
       "      <td>-74.037683</td>\n",
       "    </tr>\n",
       "    <tr>\n",
       "      <th>max</th>\n",
       "      <td>40.748716</td>\n",
       "      <td>-74.032108</td>\n",
       "      <td>40.775794</td>\n",
       "      <td>-73.976206</td>\n",
       "    </tr>\n",
       "  </tbody>\n",
       "</table>\n",
       "</div>"
      ],
      "text/plain": [
       "       start station latitude  start station longitude  end station latitude  \\\n",
       "count            39138.000000             39138.000000          39138.000000   \n",
       "mean                40.722677               -74.046233             40.722260   \n",
       "std                  0.007221                 0.010860              0.007038   \n",
       "min                 40.709651               -74.083639             40.701221   \n",
       "25%                 40.718355               -74.050656             40.717733   \n",
       "50%                 40.721525               -74.043845             40.719586   \n",
       "75%                 40.727224               -74.038051             40.726012   \n",
       "max                 40.748716               -74.032108             40.775794   \n",
       "\n",
       "       end station longitude  \n",
       "count           39138.000000  \n",
       "mean              -74.045611  \n",
       "std                 0.010770  \n",
       "min               -74.083639  \n",
       "25%               -74.050389  \n",
       "50%               -74.043117  \n",
       "75%               -74.037683  \n",
       "max               -73.976206  "
      ]
     },
     "execution_count": 86,
     "metadata": {},
     "output_type": "execute_result"
    }
   ],
   "source": [
    "copy_df.select_dtypes(include=['float']).describe()"
   ]
  },
  {
   "cell_type": "markdown",
   "metadata": {},
   "source": [
    "### Pick the columns to optimize"
   ]
  },
  {
   "cell_type": "code",
   "execution_count": 87,
   "metadata": {},
   "outputs": [
    {
     "name": "stdout",
     "output_type": "stream",
     "text": [
      "['start station latitude', 'start station longitude', 'end station latitude', 'end station longitude']\n"
     ]
    }
   ],
   "source": [
    "print(list(df.select_dtypes(include=['float']).columns))"
   ]
  },
  {
   "cell_type": "markdown",
   "metadata": {},
   "source": [
    "### Optimize them using downcasting"
   ]
  },
  {
   "cell_type": "code",
   "execution_count": 88,
   "metadata": {
    "scrolled": false
   },
   "outputs": [
    {
     "name": "stdout",
     "output_type": "stream",
     "text": [
      "*** Before type conversion: ***\n",
      "df['start station latitude', 'start station longitude', 'end station latitude', 'end station longitude'] \n",
      "\n",
      "* Memory usage = 1.19 MB\n",
      "* dtypes:\n",
      "start station latitude     float64\n",
      "start station longitude    float64\n",
      "end station latitude       float64\n",
      "end station longitude      float64\n",
      "dtype: object\n",
      "\n",
      "\n",
      "*** After type conversion: ***\n",
      "df['start station latitude', 'start station longitude', 'end station latitude', 'end station longitude'] \n",
      "\n",
      "* Memory usage = 0.60 MB\n",
      "* dtypes:\n",
      "start station latitude     float32\n",
      "start station longitude    float32\n",
      "end station latitude       float32\n",
      "end station longitude      float32\n",
      "dtype: object\n"
     ]
    }
   ],
   "source": [
    "float_columns = ['start station latitude', 'start station longitude', 'end station latitude', 'end station longitude']\n",
    "copy_df[float_columns] = optimize_pandas_df(copy_df[float_columns], 'float')"
   ]
  },
  {
   "cell_type": "markdown",
   "metadata": {},
   "source": [
    "### Overall savings: Before and after"
   ]
  },
  {
   "cell_type": "code",
   "execution_count": 89,
   "metadata": {
    "scrolled": false
   },
   "outputs": [
    {
     "name": "stdout",
     "output_type": "stream",
     "text": [
      "Before typecasting: df memory usage = 14.49 MB\n",
      "After typecasting: copy_df memory usage = 12.59 MB\n"
     ]
    }
   ],
   "source": [
    "print(\"Before typecasting: df memory usage = %s\" % get_memory_usage(df))\n",
    "print(\"After typecasting: copy_df memory usage = %s\" % get_memory_usage(copy_df))"
   ]
  },
  {
   "cell_type": "markdown",
   "metadata": {},
   "source": [
    "<h2 style=\"color: white; background-color:green;padding:5px\">object columns: Look at all of them first, focus on string columns</h2>"
   ]
  },
  {
   "cell_type": "code",
   "execution_count": 90,
   "metadata": {},
   "outputs": [
    {
     "data": {
      "text/html": [
       "<div>\n",
       "<style>\n",
       "    .dataframe thead tr:only-child th {\n",
       "        text-align: right;\n",
       "    }\n",
       "\n",
       "    .dataframe thead th {\n",
       "        text-align: left;\n",
       "    }\n",
       "\n",
       "    .dataframe tbody tr th {\n",
       "        vertical-align: top;\n",
       "    }\n",
       "</style>\n",
       "<table border=\"1\" class=\"dataframe\">\n",
       "  <thead>\n",
       "    <tr style=\"text-align: right;\">\n",
       "      <th></th>\n",
       "      <th>starttime</th>\n",
       "      <th>stoptime</th>\n",
       "      <th>start station name</th>\n",
       "      <th>end station name</th>\n",
       "      <th>usertype</th>\n",
       "    </tr>\n",
       "  </thead>\n",
       "  <tbody>\n",
       "    <tr>\n",
       "      <th>0</th>\n",
       "      <td>2018-10-01 07:44:41.4170</td>\n",
       "      <td>2018-10-01 07:47:14.2960</td>\n",
       "      <td>Exchange Place</td>\n",
       "      <td>Harborside</td>\n",
       "      <td>Subscriber</td>\n",
       "    </tr>\n",
       "    <tr>\n",
       "      <th>1</th>\n",
       "      <td>2018-10-01 08:50:05.4340</td>\n",
       "      <td>2018-10-01 08:52:08.2250</td>\n",
       "      <td>Exchange Place</td>\n",
       "      <td>Essex Light Rail</td>\n",
       "      <td>Subscriber</td>\n",
       "    </tr>\n",
       "    <tr>\n",
       "      <th>2</th>\n",
       "      <td>2018-10-01 09:03:17.0640</td>\n",
       "      <td>2018-10-01 09:06:48.0940</td>\n",
       "      <td>Exchange Place</td>\n",
       "      <td>Warren St</td>\n",
       "      <td>Subscriber</td>\n",
       "    </tr>\n",
       "    <tr>\n",
       "      <th>3</th>\n",
       "      <td>2018-10-01 10:13:07.0090</td>\n",
       "      <td>2018-10-01 10:18:49.8960</td>\n",
       "      <td>Exchange Place</td>\n",
       "      <td>Newport PATH</td>\n",
       "      <td>Subscriber</td>\n",
       "    </tr>\n",
       "    <tr>\n",
       "      <th>4</th>\n",
       "      <td>2018-10-01 10:45:14.2800</td>\n",
       "      <td>2018-10-01 11:34:51.2610</td>\n",
       "      <td>Exchange Place</td>\n",
       "      <td>Exchange Place</td>\n",
       "      <td>Customer</td>\n",
       "    </tr>\n",
       "  </tbody>\n",
       "</table>\n",
       "</div>"
      ],
      "text/plain": [
       "                  starttime                  stoptime start station name  \\\n",
       "0  2018-10-01 07:44:41.4170  2018-10-01 07:47:14.2960     Exchange Place   \n",
       "1  2018-10-01 08:50:05.4340  2018-10-01 08:52:08.2250     Exchange Place   \n",
       "2  2018-10-01 09:03:17.0640  2018-10-01 09:06:48.0940     Exchange Place   \n",
       "3  2018-10-01 10:13:07.0090  2018-10-01 10:18:49.8960     Exchange Place   \n",
       "4  2018-10-01 10:45:14.2800  2018-10-01 11:34:51.2610     Exchange Place   \n",
       "\n",
       "   end station name    usertype  \n",
       "0        Harborside  Subscriber  \n",
       "1  Essex Light Rail  Subscriber  \n",
       "2         Warren St  Subscriber  \n",
       "3      Newport PATH  Subscriber  \n",
       "4    Exchange Place    Customer  "
      ]
     },
     "execution_count": 90,
     "metadata": {},
     "output_type": "execute_result"
    }
   ],
   "source": [
    "df.select_dtypes(include=['object']).head()"
   ]
  },
  {
   "cell_type": "markdown",
   "metadata": {},
   "source": [
    "### There are only 2 unique usertypes, 51 unique start station names, and 57 unique end station names"
   ]
  },
  {
   "cell_type": "code",
   "execution_count": 91,
   "metadata": {
    "scrolled": true
   },
   "outputs": [
    {
     "data": {
      "text/html": [
       "<div>\n",
       "<style>\n",
       "    .dataframe thead tr:only-child th {\n",
       "        text-align: right;\n",
       "    }\n",
       "\n",
       "    .dataframe thead th {\n",
       "        text-align: left;\n",
       "    }\n",
       "\n",
       "    .dataframe tbody tr th {\n",
       "        vertical-align: top;\n",
       "    }\n",
       "</style>\n",
       "<table border=\"1\" class=\"dataframe\">\n",
       "  <thead>\n",
       "    <tr style=\"text-align: right;\">\n",
       "      <th></th>\n",
       "      <th>starttime</th>\n",
       "      <th>stoptime</th>\n",
       "      <th>start station name</th>\n",
       "      <th>end station name</th>\n",
       "      <th>usertype</th>\n",
       "    </tr>\n",
       "  </thead>\n",
       "  <tbody>\n",
       "    <tr>\n",
       "      <th>count</th>\n",
       "      <td>39138</td>\n",
       "      <td>39138</td>\n",
       "      <td>39138</td>\n",
       "      <td>39138</td>\n",
       "      <td>39138</td>\n",
       "    </tr>\n",
       "    <tr>\n",
       "      <th>unique</th>\n",
       "      <td>39137</td>\n",
       "      <td>39136</td>\n",
       "      <td>51</td>\n",
       "      <td>57</td>\n",
       "      <td>2</td>\n",
       "    </tr>\n",
       "    <tr>\n",
       "      <th>top</th>\n",
       "      <td>2018-10-15 17:07:56.1600</td>\n",
       "      <td>2018-10-31 18:18:17.4840</td>\n",
       "      <td>Grove St PATH</td>\n",
       "      <td>Grove St PATH</td>\n",
       "      <td>Subscriber</td>\n",
       "    </tr>\n",
       "    <tr>\n",
       "      <th>freq</th>\n",
       "      <td>2</td>\n",
       "      <td>2</td>\n",
       "      <td>4752</td>\n",
       "      <td>6156</td>\n",
       "      <td>37134</td>\n",
       "    </tr>\n",
       "  </tbody>\n",
       "</table>\n",
       "</div>"
      ],
      "text/plain": [
       "                       starttime                  stoptime start station name  \\\n",
       "count                      39138                     39138              39138   \n",
       "unique                     39137                     39136                 51   \n",
       "top     2018-10-15 17:07:56.1600  2018-10-31 18:18:17.4840      Grove St PATH   \n",
       "freq                           2                         2               4752   \n",
       "\n",
       "       end station name    usertype  \n",
       "count             39138       39138  \n",
       "unique               57           2  \n",
       "top       Grove St PATH  Subscriber  \n",
       "freq               6156       37134  "
      ]
     },
     "execution_count": 91,
     "metadata": {},
     "output_type": "execute_result"
    }
   ],
   "source": [
    "df.select_dtypes(include=['object']).describe()"
   ]
  },
  {
   "cell_type": "markdown",
   "metadata": {},
   "source": [
    "### Pick the columns to optimize, leave out the date time columns for now"
   ]
  },
  {
   "cell_type": "code",
   "execution_count": 92,
   "metadata": {},
   "outputs": [
    {
     "name": "stdout",
     "output_type": "stream",
     "text": [
      "['starttime', 'stoptime', 'start station name', 'end station name', 'usertype']\n"
     ]
    }
   ],
   "source": [
    "print(list(df.select_dtypes(include=['object']).columns))"
   ]
  },
  {
   "cell_type": "markdown",
   "metadata": {},
   "source": [
    "### Cast them as type category"
   ]
  },
  {
   "cell_type": "markdown",
   "metadata": {},
   "source": [
    "<h3 style=\"color: white; background-color:green;padding:5px\">\n",
    "    <ul>\n",
    "        <li> This will internally build an integer-to-string mapping dictinary, so 1 integer per unique category</li>\n",
    "        <li>Pandas uses the most space efficient integer subtype that can represent all of the unique values in a column</li>\n",
    "    </ul></h3>"
   ]
  },
  {
   "cell_type": "code",
   "execution_count": 93,
   "metadata": {
    "scrolled": false
   },
   "outputs": [
    {
     "name": "stdout",
     "output_type": "stream",
     "text": [
      "*** Before type conversion: ***\n",
      "df['start station name', 'end station name', 'usertype'] \n",
      "\n",
      "* Memory usage = 6.35 MB\n",
      "* dtypes:\n",
      "start station name    object\n",
      "end station name      object\n",
      "usertype              object\n",
      "dtype: object\n",
      "\n",
      "\n",
      "*** After type conversion: ***\n",
      "df['start station name', 'end station name', 'usertype'] \n",
      "\n",
      "* Memory usage = 0.12 MB\n",
      "* dtypes:\n",
      "start station name    category\n",
      "end station name      category\n",
      "usertype              category\n",
      "dtype: object\n"
     ]
    }
   ],
   "source": [
    "object_columns = ['start station name', 'end station name', 'usertype']\n",
    "\n",
    "copy_df[object_columns] = optimize_pandas_df(copy_df[object_columns], 'object')"
   ]
  },
  {
   "cell_type": "markdown",
   "metadata": {},
   "source": [
    "### Overall savings: Before and after"
   ]
  },
  {
   "cell_type": "code",
   "execution_count": 95,
   "metadata": {
    "scrolled": false
   },
   "outputs": [
    {
     "name": "stdout",
     "output_type": "stream",
     "text": [
      "Before type conversion: df memory usage = 14.49 MB\n",
      "After type conversion: copy_df memory usage = 6.36 MB\n"
     ]
    }
   ],
   "source": [
    "print(\"Before type conversion: df memory usage = %s\" % get_memory_usage(df))\n",
    "print(\"After type conversion: copy_df memory usage = %s\" % get_memory_usage(copy_df))"
   ]
  },
  {
   "cell_type": "markdown",
   "metadata": {},
   "source": [
    "<h2 style=\"color: white; background-color:green;padding:5px\">object columns: Look at all of them first, focus on datetime columns</h2>"
   ]
  },
  {
   "cell_type": "code",
   "execution_count": 96,
   "metadata": {},
   "outputs": [
    {
     "name": "stdout",
     "output_type": "stream",
     "text": [
      "*** Before type conversion: ***\n",
      "df['starttime', 'stoptime'] \n",
      "\n",
      "* Memory usage = 5.15 MB\n",
      "* dtypes:\n",
      "starttime    object\n",
      "stoptime     object\n",
      "dtype: object\n",
      "\n",
      "\n",
      "*** After type conversion: ***\n",
      "df['starttime', 'stoptime'] \n",
      "\n",
      "* Memory usage = 0.60 MB\n",
      "* dtypes:\n",
      "starttime    datetime64[ns]\n",
      "stoptime     datetime64[ns]\n",
      "dtype: object\n"
     ]
    }
   ],
   "source": [
    "datetime_columns = ['starttime', 'stoptime']\n",
    "\n",
    "copy_df[datetime_columns] = optimize_pandas_df(copy_df[datetime_columns], 'datetime')"
   ]
  },
  {
   "cell_type": "markdown",
   "metadata": {},
   "source": [
    "### Overall savings: Before and after"
   ]
  },
  {
   "cell_type": "code",
   "execution_count": 97,
   "metadata": {},
   "outputs": [
    {
     "name": "stdout",
     "output_type": "stream",
     "text": [
      "Before type conversion: df memory usage = 14.49 MB\n",
      "After type conversion: copy_df memory usage = 1.80 MB\n"
     ]
    }
   ],
   "source": [
    "print(\"Before type conversion: df memory usage = %s\" % get_memory_usage(df))\n",
    "print(\"After type conversion: copy_df memory usage = %s\" % get_memory_usage(copy_df))"
   ]
  },
  {
   "cell_type": "markdown",
   "metadata": {},
   "source": [
    "<hr style=\"height:2px\" />"
   ]
  },
  {
   "cell_type": "markdown",
   "metadata": {},
   "source": [
    "<h1 style=\"color: white; background-color:green;padding:5px\">Libraries are being developed to scale Pandas dataframes beyond 1 machine, Dask is one such library</h1>"
   ]
  },
  {
   "cell_type": "markdown",
   "metadata": {},
   "source": [
    "## Does Dask optimize the dataframe? Let us check"
   ]
  },
  {
   "cell_type": "code",
   "execution_count": 100,
   "metadata": {},
   "outputs": [],
   "source": [
    "import dask.dataframe as dd"
   ]
  },
  {
   "cell_type": "markdown",
   "metadata": {},
   "source": [
    "### Read the data"
   ]
  },
  {
   "cell_type": "code",
   "execution_count": 102,
   "metadata": {},
   "outputs": [],
   "source": [
    "df_dd = dd.read_csv(\"JC-201810-citibike-tripdata.csv\")"
   ]
  },
  {
   "cell_type": "markdown",
   "metadata": {},
   "source": [
    "### Check the memory usage..hmm..seems good, but not as good as what we had above..1.8 MB"
   ]
  },
  {
   "cell_type": "code",
   "execution_count": 110,
   "metadata": {},
   "outputs": [
    {
     "name": "stdout",
     "output_type": "stream",
     "text": [
      "<class 'dask.dataframe.core.DataFrame'>\n",
      "Columns: 15 entries, tripduration to gender\n",
      "dtypes: object(5), float64(4), int64(6)\n",
      "memory usage: 4.5 MB\n"
     ]
    }
   ],
   "source": [
    "df_dd.info(memory_usage='deep')"
   ]
  },
  {
   "cell_type": "markdown",
   "metadata": {},
   "source": [
    "### Let us feed our Citbike dataframe to Dask"
   ]
  },
  {
   "cell_type": "code",
   "execution_count": 111,
   "metadata": {},
   "outputs": [
    {
     "name": "stdout",
     "output_type": "stream",
     "text": [
      "(39138, 15)\n"
     ]
    },
    {
     "data": {
      "text/html": [
       "<div>\n",
       "<style>\n",
       "    .dataframe thead tr:only-child th {\n",
       "        text-align: right;\n",
       "    }\n",
       "\n",
       "    .dataframe thead th {\n",
       "        text-align: left;\n",
       "    }\n",
       "\n",
       "    .dataframe tbody tr th {\n",
       "        vertical-align: top;\n",
       "    }\n",
       "</style>\n",
       "<table border=\"1\" class=\"dataframe\">\n",
       "  <thead>\n",
       "    <tr style=\"text-align: right;\">\n",
       "      <th></th>\n",
       "      <th>tripduration</th>\n",
       "      <th>starttime</th>\n",
       "      <th>stoptime</th>\n",
       "      <th>start station id</th>\n",
       "      <th>start station name</th>\n",
       "      <th>start station latitude</th>\n",
       "      <th>start station longitude</th>\n",
       "      <th>end station id</th>\n",
       "      <th>end station name</th>\n",
       "      <th>end station latitude</th>\n",
       "      <th>end station longitude</th>\n",
       "      <th>bikeid</th>\n",
       "      <th>usertype</th>\n",
       "      <th>birth year</th>\n",
       "      <th>gender</th>\n",
       "    </tr>\n",
       "  </thead>\n",
       "  <tbody>\n",
       "    <tr>\n",
       "      <th>0</th>\n",
       "      <td>152</td>\n",
       "      <td>2018-10-01 07:44:41.417</td>\n",
       "      <td>2018-10-01 07:47:14.296</td>\n",
       "      <td>3183</td>\n",
       "      <td>Exchange Place</td>\n",
       "      <td>40.716248</td>\n",
       "      <td>-74.033463</td>\n",
       "      <td>3639</td>\n",
       "      <td>Harborside</td>\n",
       "      <td>40.719254</td>\n",
       "      <td>-74.034233</td>\n",
       "      <td>15302</td>\n",
       "      <td>Subscriber</td>\n",
       "      <td>1971</td>\n",
       "      <td>2</td>\n",
       "    </tr>\n",
       "    <tr>\n",
       "      <th>1</th>\n",
       "      <td>122</td>\n",
       "      <td>2018-10-01 08:50:05.434</td>\n",
       "      <td>2018-10-01 08:52:08.225</td>\n",
       "      <td>3183</td>\n",
       "      <td>Exchange Place</td>\n",
       "      <td>40.716248</td>\n",
       "      <td>-74.033463</td>\n",
       "      <td>3214</td>\n",
       "      <td>Essex Light Rail</td>\n",
       "      <td>40.712772</td>\n",
       "      <td>-74.036484</td>\n",
       "      <td>29654</td>\n",
       "      <td>Subscriber</td>\n",
       "      <td>1973</td>\n",
       "      <td>1</td>\n",
       "    </tr>\n",
       "    <tr>\n",
       "      <th>2</th>\n",
       "      <td>211</td>\n",
       "      <td>2018-10-01 09:03:17.064</td>\n",
       "      <td>2018-10-01 09:06:48.094</td>\n",
       "      <td>3183</td>\n",
       "      <td>Exchange Place</td>\n",
       "      <td>40.716248</td>\n",
       "      <td>-74.033463</td>\n",
       "      <td>3187</td>\n",
       "      <td>Warren St</td>\n",
       "      <td>40.721123</td>\n",
       "      <td>-74.038048</td>\n",
       "      <td>33621</td>\n",
       "      <td>Subscriber</td>\n",
       "      <td>1958</td>\n",
       "      <td>1</td>\n",
       "    </tr>\n",
       "    <tr>\n",
       "      <th>3</th>\n",
       "      <td>342</td>\n",
       "      <td>2018-10-01 10:13:07.009</td>\n",
       "      <td>2018-10-01 10:18:49.896</td>\n",
       "      <td>3183</td>\n",
       "      <td>Exchange Place</td>\n",
       "      <td>40.716248</td>\n",
       "      <td>-74.033463</td>\n",
       "      <td>3202</td>\n",
       "      <td>Newport PATH</td>\n",
       "      <td>40.727222</td>\n",
       "      <td>-74.033760</td>\n",
       "      <td>26266</td>\n",
       "      <td>Subscriber</td>\n",
       "      <td>1982</td>\n",
       "      <td>1</td>\n",
       "    </tr>\n",
       "    <tr>\n",
       "      <th>4</th>\n",
       "      <td>2976</td>\n",
       "      <td>2018-10-01 10:45:14.280</td>\n",
       "      <td>2018-10-01 11:34:51.261</td>\n",
       "      <td>3183</td>\n",
       "      <td>Exchange Place</td>\n",
       "      <td>40.716248</td>\n",
       "      <td>-74.033463</td>\n",
       "      <td>3183</td>\n",
       "      <td>Exchange Place</td>\n",
       "      <td>40.716248</td>\n",
       "      <td>-74.033463</td>\n",
       "      <td>27083</td>\n",
       "      <td>Customer</td>\n",
       "      <td>1969</td>\n",
       "      <td>0</td>\n",
       "    </tr>\n",
       "  </tbody>\n",
       "</table>\n",
       "</div>"
      ],
      "text/plain": [
       "   tripduration               starttime                stoptime  \\\n",
       "0           152 2018-10-01 07:44:41.417 2018-10-01 07:47:14.296   \n",
       "1           122 2018-10-01 08:50:05.434 2018-10-01 08:52:08.225   \n",
       "2           211 2018-10-01 09:03:17.064 2018-10-01 09:06:48.094   \n",
       "3           342 2018-10-01 10:13:07.009 2018-10-01 10:18:49.896   \n",
       "4          2976 2018-10-01 10:45:14.280 2018-10-01 11:34:51.261   \n",
       "\n",
       "   start station id start station name  start station latitude  \\\n",
       "0              3183     Exchange Place               40.716248   \n",
       "1              3183     Exchange Place               40.716248   \n",
       "2              3183     Exchange Place               40.716248   \n",
       "3              3183     Exchange Place               40.716248   \n",
       "4              3183     Exchange Place               40.716248   \n",
       "\n",
       "   start station longitude  end station id  end station name  \\\n",
       "0               -74.033463            3639        Harborside   \n",
       "1               -74.033463            3214  Essex Light Rail   \n",
       "2               -74.033463            3187         Warren St   \n",
       "3               -74.033463            3202      Newport PATH   \n",
       "4               -74.033463            3183    Exchange Place   \n",
       "\n",
       "   end station latitude  end station longitude  bikeid    usertype  \\\n",
       "0             40.719254             -74.034233   15302  Subscriber   \n",
       "1             40.712772             -74.036484   29654  Subscriber   \n",
       "2             40.721123             -74.038048   33621  Subscriber   \n",
       "3             40.727222             -74.033760   26266  Subscriber   \n",
       "4             40.716248             -74.033463   27083    Customer   \n",
       "\n",
       "   birth year  gender  \n",
       "0        1971       2  \n",
       "1        1973       1  \n",
       "2        1958       1  \n",
       "3        1982       1  \n",
       "4        1969       0  "
      ]
     },
     "execution_count": 111,
     "metadata": {},
     "output_type": "execute_result"
    }
   ],
   "source": [
    "copy_df_dd = dd.from_pandas(copy_df, npartitions=1)\n",
    "print(copy_df.shape)\n",
    "copy_df_dd.head()"
   ]
  },
  {
   "cell_type": "markdown",
   "metadata": {},
   "source": [
    "### Check the memory usage..well, Dask has accepted our optimized Dataframe..WOOHOO! :)"
   ]
  },
  {
   "cell_type": "code",
   "execution_count": 112,
   "metadata": {},
   "outputs": [
    {
     "name": "stdout",
     "output_type": "stream",
     "text": [
      "<class 'dask.dataframe.core.DataFrame'>\n",
      "Columns: 15 entries, tripduration to gender\n",
      "dtypes: category(3), datetime64[ns](2), float32(4), uint16(4), uint32(1), uint8(1)\n",
      "memory usage: 1.8 MB\n"
     ]
    }
   ],
   "source": [
    "copy_df_dd.info(memory_usage='deep')"
   ]
  }
 ],
 "metadata": {
  "kernelspec": {
   "display_name": "nyc_python_py37",
   "language": "python",
   "name": "nyc_python_py37"
  },
  "language_info": {
   "codemirror_mode": {
    "name": "ipython",
    "version": 2
   },
   "file_extension": ".py",
   "mimetype": "text/x-python",
   "name": "python",
   "nbconvert_exporter": "python",
   "pygments_lexer": "ipython2",
   "version": "2.7.13"
  }
 },
 "nbformat": 4,
 "nbformat_minor": 2
}
